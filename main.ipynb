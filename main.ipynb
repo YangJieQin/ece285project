{
 "cells": [
  {
   "cell_type": "code",
   "execution_count": 1,
   "id": "7fc63c53",
   "metadata": {},
   "outputs": [],
   "source": [
    "import os\n",
    "import cv2\n",
    "import numpy as np\n",
    "from sklearn.model_selection import train_test_split"
   ]
  },
  {
   "cell_type": "code",
   "execution_count": null,
   "id": "d88d771b",
   "metadata": {},
   "outputs": [],
   "source": [
    "# Define image size and paths\n",
    "IMG_SIZE = 512\n",
    "TRAIN_DIR = 'data/Animal_Faces/train/'\n",
    "VAL_DIR = 'data/Animal_Faces/val/'\n",
    "\n",
    "# Function to load and preprocess images from a directory\n",
    "def load_and_preprocess_images_from_directory(directory, img_size):\n",
    "    categories = ['cat', 'dog', 'wild']\n",
    "    data = []\n",
    "    labels = []\n",
    "\n",
    "    for category in categories:\n",
    "        path = os.path.join(directory, category)\n",
    "        class_num = categories.index(category)\n",
    "        \n",
    "        for img in os.listdir(path):\n",
    "            try:\n",
    "                img_array = cv2.imread(os.path.join(path, img), cv2.IMREAD_COLOR)\n",
    "                img_array = cv2.resize(img_array, (img_size, img_size))\n",
    "                img_array = img_array / 255.0  # Normalize to [0, 1]\n",
    "                data.append(img_array)\n",
    "                labels.append(class_num)\n",
    "            except Exception as e:\n",
    "                pass\n",
    "\n",
    "    data = np.array(data)\n",
    "    labels = np.array(labels)\n",
    "    return data, labels\n",
    "\n",
    "# Load and preprocess images\n",
    "X_train, y_train = load_and_preprocess_images_from_directory(TRAIN_DIR, IMG_SIZE)\n",
    "X_val, y_val = load_and_preprocess_images_from_directory(VAL_DIR, IMG_SIZE)\n",
    "\n",
    "# Optionally, create a test set from the validation set if needed\n",
    "X_val, X_test, y_val, y_test = train_test_split(X_val, y_val, test_size=0.5, random_state=42)\n",
    "\n",
    "print(f\"Training set: {X_train.shape}, Validation set: {X_val.shape}, Test set: {X_test.shape}\")\n"
   ]
  },
  {
   "cell_type": "code",
   "execution_count": null,
   "id": "126c79c5",
   "metadata": {},
   "outputs": [],
   "source": []
  }
 ],
 "metadata": {
  "kernelspec": {
   "display_name": "Python 3",
   "language": "python",
   "name": "python3"
  },
  "language_info": {
   "codemirror_mode": {
    "name": "ipython",
    "version": 3
   },
   "file_extension": ".py",
   "mimetype": "text/x-python",
   "name": "python",
   "nbconvert_exporter": "python",
   "pygments_lexer": "ipython3",
   "version": "3.9.5"
  }
 },
 "nbformat": 4,
 "nbformat_minor": 5
}
